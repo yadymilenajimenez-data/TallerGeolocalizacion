{
  "nbformat": 4,
  "nbformat_minor": 0,
  "metadata": {
    "colab": {
      "provenance": [],
      "authorship_tag": "ABX9TyNSu89PdWk4WxgRHnvoDQUh",
      "include_colab_link": true
    },
    "kernelspec": {
      "name": "python3",
      "display_name": "Python 3"
    },
    "language_info": {
      "name": "python"
    }
  },
  "cells": [
    {
      "cell_type": "markdown",
      "metadata": {
        "id": "view-in-github",
        "colab_type": "text"
      },
      "source": [
        "<a href=\"https://colab.research.google.com/github/yadymilenajimenez-data/TallerGeolocalizacion/blob/copia1/3_2TALLER_EN_CLASE.ipynb\" target=\"_parent\"><img src=\"https://colab.research.google.com/assets/colab-badge.svg\" alt=\"Open In Colab\"/></a>"
      ]
    },
    {
      "cell_type": "markdown",
      "source": [
        "# **TALLER EN CLASE**\n",
        "\n",
        "\n",
        "Como ejercicio se propone que los estudiantes dibujen las figuras geométricas básicas usando entidades de Shapely. Posteriormente que dibujen figuras como las siguientes:\n"
      ],
      "metadata": {
        "id": "jqPK2VPygcwa"
      }
    },
    {
      "cell_type": "markdown",
      "source": [
        "Segunda figura"
      ],
      "metadata": {
        "id": "6_wWIklRpP2C"
      }
    },
    {
      "cell_type": "code",
      "execution_count": 2,
      "metadata": {
        "colab": {
          "base_uri": "https://localhost:8080/"
        },
        "id": "5mdS32yHfr-U",
        "outputId": "f29d949a-7b31-4d74-84e3-075fcac17f44"
      },
      "outputs": [
        {
          "output_type": "stream",
          "name": "stdout",
          "text": [
            "Requirement already satisfied: shapely in /usr/local/lib/python3.10/dist-packages (2.0.3)\n",
            "Requirement already satisfied: matplotlib in /usr/local/lib/python3.10/dist-packages (3.7.1)\n",
            "Requirement already satisfied: numpy<2,>=1.14 in /usr/local/lib/python3.10/dist-packages (from shapely) (1.25.2)\n",
            "Requirement already satisfied: contourpy>=1.0.1 in /usr/local/lib/python3.10/dist-packages (from matplotlib) (1.2.0)\n",
            "Requirement already satisfied: cycler>=0.10 in /usr/local/lib/python3.10/dist-packages (from matplotlib) (0.12.1)\n",
            "Requirement already satisfied: fonttools>=4.22.0 in /usr/local/lib/python3.10/dist-packages (from matplotlib) (4.50.0)\n",
            "Requirement already satisfied: kiwisolver>=1.0.1 in /usr/local/lib/python3.10/dist-packages (from matplotlib) (1.4.5)\n",
            "Requirement already satisfied: packaging>=20.0 in /usr/local/lib/python3.10/dist-packages (from matplotlib) (24.0)\n",
            "Requirement already satisfied: pillow>=6.2.0 in /usr/local/lib/python3.10/dist-packages (from matplotlib) (9.4.0)\n",
            "Requirement already satisfied: pyparsing>=2.3.1 in /usr/local/lib/python3.10/dist-packages (from matplotlib) (3.1.2)\n",
            "Requirement already satisfied: python-dateutil>=2.7 in /usr/local/lib/python3.10/dist-packages (from matplotlib) (2.8.2)\n",
            "Requirement already satisfied: six>=1.5 in /usr/local/lib/python3.10/dist-packages (from python-dateutil>=2.7->matplotlib) (1.16.0)\n"
          ]
        }
      ],
      "source": [
        "# Instalar las bibliotecas necesarias\n",
        "!pip install shapely matplotlib\n",
        "\n",
        "# Importar las bibliotecas\n",
        "from shapely.geometry import Polygon\n",
        "import matplotlib.pyplot as plt"
      ]
    },
    {
      "cell_type": "code",
      "source": [
        "# Definir las coordenadas del cuadrado\n",
        "cuadrado_coords = [(1, 1), (4, 1), (4, 4), (1, 4)]\n",
        "\n",
        "# Crear el polígono para el cuadrado\n",
        "cuadrado = Polygon(cuadrado_coords)\n",
        "\n",
        "# Crear una figura y un eje\n",
        "fig, ax = plt.subplots()\n",
        "\n",
        "# Dibujar el área interior del cuadrado\n",
        "x, y = cuadrado.exterior.xy\n",
        "ax.plot(x, y, color='gray', linewidth=2)  # Dibujar el borde exterior del cuadrado\n",
        "\n",
        "# Definir las coordenadas del borde interior del cuadrado\n",
        "cuadrado_coords_interior = [(1.5, 1.5), (3.5, 1.5), (3.5, 3.5), (1.5, 3.5), (1.5, 1.5)]\n",
        "\n",
        "# Crear el polígono para el borde interior del cuadrado\n",
        "cuadrado_interior = Polygon(cuadrado_coords_interior)\n",
        "\n",
        "# Dibujar el borde interior del cuadrado\n",
        "x_interior, y_interior = cuadrado_interior.exterior.xy\n",
        "ax.fill(x_interior, y_interior, color='#98FB98')  # Rellenar el área interior con color verde\n",
        "\n",
        "# Establecer etiquetas y título\n",
        "plt.xlabel('X')\n",
        "plt.ylabel('Y')\n",
        "plt.title('Marco Cuadrado con Color')\n",
        "\n",
        "# Mostrar la figura\n",
        "plt.gca().set_aspect('equal', adjustable='box')\n",
        "plt.axis('off')  # Desactivar los ejes\n",
        "plt.show()"
      ],
      "metadata": {
        "colab": {
          "base_uri": "https://localhost:8080/",
          "height": 428
        },
        "id": "o7e-XI6akcMW",
        "outputId": "61ffa296-f69f-4ecc-9458-9d75dfb01fd8"
      },
      "execution_count": 25,
      "outputs": [
        {
          "output_type": "display_data",
          "data": {
            "text/plain": [
              "<Figure size 640x480 with 1 Axes>"
            ],
            "image/png": "[encoded data removed]"
          },
          "metadata": {}
        }
      ]
    },
    {
      "cell_type": "code",
      "source": [
        "# Definir las coordenadas del marco exterior\n",
        "marco_coords = [(1, 1), (4, 1), (4, 4), (1, 4)]\n",
        "\n",
        "# Crear el polígono para el marco\n",
        "marco = Polygon(marco_coords)\n",
        "\n",
        "# Crear una figura y un eje\n",
        "fig, ax = plt.subplots()\n",
        "\n",
        "# Dibujar el marco con un relleno verde\n",
        "x, y = marco.exterior.xy\n",
        "ax.fill(x, y, color='green')\n",
        "\n",
        "# Dibujar las líneas del marco en color gris\n",
        "ax.plot(x, y, color='gray', linewidth=2)\n",
        "\n",
        "# Establecer etiquetas y título\n",
        "plt.xlabel('X')\n",
        "plt.ylabel('Y')\n",
        "plt.title('Marco Verde con Líneas Grises')\n",
        "\n",
        "# Mostrar la figura\n",
        "plt.gca().set_aspect('equal', adjustable='box')\n",
        "plt.axis('off')\n",
        "plt.show()\n"
      ],
      "metadata": {
        "colab": {
          "base_uri": "https://localhost:8080/",
          "height": 428
        },
        "id": "_xcYiYZrjaxX",
        "outputId": "690ddc86-077c-447c-cf67-3a09e166b211"
      },
      "execution_count": 5,
      "outputs": [
        {
          "output_type": "display_data",
          "data": {
            "text/plain": [
              "<Figure size 640x480 with 1 Axes>"
            ],
            "image/png": "[encoded data removed]"
          },
          "metadata": {}
        }
      ]
    },
    {
      "cell_type": "code",
      "source": [
        "# Definir las coordenadas del marco exterior\n",
        "marco_coords = [(1, 1), (4, 1), (4, 4), (1, 4)]\n",
        "\n",
        "# Definir las coordenadas del hueco cuadrado en el centro\n",
        "hueco_coords = [(1.5, 1.5), (3.5, 1.5), (3.5, 3.5), (1.5, 3.5)]\n",
        "\n",
        "# Crear el polígono para el marco\n",
        "marco = Polygon(marco_coords)\n",
        "\n",
        "# Crear el polígono para el hueco cuadrado en el centro\n",
        "hueco = Polygon(hueco_coords)\n",
        "\n",
        "# Crear una figura y un eje\n",
        "fig, ax = plt.subplots()\n",
        "\n",
        "# Dibujar el marco con un relleno verde\n",
        "x, y = marco.exterior.xy\n",
        "ax.fill(x, y, color='#98FB98')\n",
        "\n",
        "# Dibujar las líneas del marco en color gris\n",
        "ax.plot(x, y, color='gray', linewidth=2)\n",
        "\n",
        "# Dibujar el hueco en el centro con un relleno blanco\n",
        "x_hueco, y_hueco = hueco.exterior.xy\n",
        "ax.fill(x_hueco, y_hueco, color='white')\n",
        "\n",
        "# Establecer etiquetas y título\n",
        "plt.xlabel('X')\n",
        "plt.ylabel('Y')\n",
        "plt.title('Marco Verde con Hueco Blanco')\n",
        "\n",
        "# Mostrar la figura\n",
        "plt.gca().set_aspect('equal', adjustable='box')\n",
        "plt.axis('off')\n",
        "plt.show()"
      ],
      "metadata": {
        "colab": {
          "base_uri": "https://localhost:8080/",
          "height": 428
        },
        "id": "zNIIZT8bjopv",
        "outputId": "3dac0639-d2af-4e85-911a-19428f6f8e57"
      },
      "execution_count": 7,
      "outputs": [
        {
          "output_type": "display_data",
          "data": {
            "text/plain": [
              "<Figure size 640x480 with 1 Axes>"
            ],
            "image/png": "[encoded data removed]"
          },
          "metadata": {}
        }
      ]
    },
    {
      "cell_type": "code",
      "source": [
        "# Definir las coordenadas del marco exterior\n",
        "marco_coords = [(1, 1), (4, 1), (4, 4), (1, 4)]\n",
        "\n",
        "\n",
        "# Definir las coordenadas del hueco cuadrado en el centro\n",
        "hueco_coords = [(1.5, 1.5), (3.5, 1.5), (3.5, 3.5), (1.5, 3.5)]\n",
        "\n",
        "# Crear el polígono para el marco\n",
        "marco = Polygon(marco_coords)\n",
        "\n",
        "\n",
        "# Crear el polígono para el hueco cuadrado en el centro\n",
        "hueco = Polygon(hueco_coords)\n",
        "\n",
        "# Crear una figura y un eje\n",
        "fig, ax = plt.subplots()\n",
        "\n",
        "# Dibujar el marco con un relleno verde y borde gris\n",
        "x, y = marco.exterior.xy\n",
        "ax.fill(x, y, color='#98FB98', edgecolor='gray', linewidth=2)\n",
        "\n",
        "# Dibujar el hueco en el centro con un relleno blanco y borde gris\n",
        "x_hueco, y_hueco = hueco.exterior.xy\n",
        "ax.fill(x_hueco, y_hueco, color='white', edgecolor='gray', linewidth=2)\n",
        "\n",
        "# Establecer etiquetas y título\n",
        "plt.xlabel('X')\n",
        "plt.ylabel('Y')\n",
        "plt.title('Marco Verde con Hueco Blanco y Borde Gris')\n",
        "\n",
        "# Mostrar la figura\n",
        "plt.gca().set_aspect('equal', adjustable='box')\n",
        "plt.axis('off')\n",
        "plt.show()"
      ],
      "metadata": {
        "colab": {
          "base_uri": "https://localhost:8080/",
          "height": 428
        },
        "id": "hsnslIPVqGuq",
        "outputId": "cf1b6845-3255-4376-9b4c-6cd7fccbe8a5"
      },
      "execution_count": 21,
      "outputs": [
        {
          "output_type": "display_data",
          "data": {
            "text/plain": [
              "<Figure size 640x480 with 1 Axes>"
            ],
            "image/png": "[encoded data removed]"
          },
          "metadata": {}
        }
      ]
    },
    {
      "cell_type": "markdown",
      "source": [
        "Primera figura"
      ],
      "metadata": {
        "id": "aAt-7SdzpYlb"
      }
    },
    {
      "cell_type": "code",
      "source": [
        "# Definir las coordenadas del marco exterior\n",
        "marco_coords = [(1, 1), (4, 1), (4, 4), (1, 4)]\n",
        "marco_coords_ref = [(4, 4), (4, 1), (7, 1), (7, 4)]\n",
        "\n",
        "# Definir las coordenadas del hueco cuadrado en el centro\n",
        "hueco_coords = [(1.5, 1.5), (3.5, 1.5), (3.5, 3.5), (1.5, 3.5)]\n",
        "\n",
        "# Crear el polígono para el marco\n",
        "marco = Polygon(marco_coords)\n",
        "marco_ref = Polygon(marco_coords_ref)\n",
        "\n",
        "# Crear el polígono para el hueco cuadrado en el centro\n",
        "hueco = Polygon(hueco_coords)\n",
        "\n",
        "# Crear una figura y un eje\n",
        "fig, ax = plt.subplots()\n",
        "\n",
        "# Dibujar el marco con un relleno verde y borde gris\n",
        "x, y = marco.exterior.xy\n",
        "ax.fill(x, y, color='#FFC0CB', edgecolor='gray', linewidth=2)\n",
        "x_ref, y_ref = marco_ref.exterior.xy\n",
        "ax.fill(x_ref, y_ref, color='#FFC0CB', edgecolor='gray', linewidth=2)\n",
        "\n",
        "# Dibujar el hueco en el centro con un relleno blanco y borde gris\n",
        "x_hueco, y_hueco = hueco.exterior.xy\n",
        "ax.fill(x_hueco, y_hueco, color='white', edgecolor='gray', linewidth=2)\n",
        "\n",
        "# Establecer etiquetas y título\n",
        "plt.xlabel('X')\n",
        "plt.ylabel('Y')\n",
        "plt.title('Marco Verde con Hueco Blanco y Borde Gris')\n",
        "\n",
        "# Mostrar la figura\n",
        "plt.gca().set_aspect('equal', adjustable='box')\n",
        "plt.axis('off')\n",
        "plt.show()"
      ],
      "metadata": {
        "colab": {
          "base_uri": "https://localhost:8080/",
          "height": 307
        },
        "id": "ZauKcz3PlIzJ",
        "outputId": "0ac86f06-2ae8-4897-f91f-1f28c29f3569"
      },
      "execution_count": 19,
      "outputs": [
        {
          "output_type": "display_data",
          "data": {
            "text/plain": [
              "<Figure size 640x480 with 1 Axes>"
            ],
            "image/png": "[encoded data removed]"
          },
          "metadata": {}
        }
      ]
    },
    {
      "cell_type": "markdown",
      "source": [
        "Primera y segunda figura en un mismo plano"
      ],
      "metadata": {
        "id": "pLQ-QUOMpbkx"
      }
    },
    {
      "cell_type": "code",
      "source": [
        "# Definir las coordenadas del marco exterior para la primera figura\n",
        "marco_coords1 = [(1, 1), (4, 1), (4, 4), (1, 4)]\n",
        "\n",
        "# Definir las coordenadas del hueco cuadrado en el centro para la primera figura\n",
        "hueco_coords1 = [(1.5, 1.5), (3.5, 1.5), (3.5, 3.5), (1.5, 3.5)]\n",
        "\n",
        "# Definir las coordenadas del marco exterior para la segunda figura con un espacio de dos unidades en el lado derecho\n",
        "marco_coords2 = [(6, 1), (9, 1), (9, 4), (6, 4)]\n",
        "marco_coords_ref2 = [(9, 4), (9, 1), (12, 1), (12, 4)]\n",
        "\n",
        "# Definir las coordenadas del hueco cuadrado en el centro para la segunda figura\n",
        "hueco_coords2 = [(6.5, 1.5), (8.5, 1.5), (8.5, 3.5), (6.5, 3.5)]\n",
        "\n",
        "# Crear el polígono para el marco y el hueco de la primera figura\n",
        "marco1 = Polygon(marco_coords1)\n",
        "hueco1 = Polygon(hueco_coords1)\n",
        "\n",
        "# Crear el polígono para el marco y el hueco de la segunda figura\n",
        "marco2 = Polygon(marco_coords2)\n",
        "marco_ref2 = Polygon(marco_coords_ref2)\n",
        "hueco2 = Polygon(hueco_coords2)\n",
        "\n",
        "# Crear una figura y un eje\n",
        "fig, ax = plt.subplots()\n",
        "\n",
        "# Dibujar la primera figura\n",
        "x, y = marco1.exterior.xy\n",
        "ax.fill(x, y, color='#98FB98', edgecolor='gray', linewidth=2)\n",
        "x_hueco, y_hueco = hueco1.exterior.xy\n",
        "ax.fill(x_hueco, y_hueco, color='white', edgecolor='gray', linewidth=2)\n",
        "\n",
        "# Dibujar la segunda figura\n",
        "x, y = marco2.exterior.xy\n",
        "ax.fill(x, y, color='#FFC0CB', edgecolor='gray', linewidth=2)\n",
        "x_ref, y_ref = marco_ref2.exterior.xy\n",
        "ax.fill(x_ref, y_ref, color='#FFC0CB', edgecolor='gray', linewidth=2)\n",
        "x_hueco, y_hueco = hueco2.exterior.xy\n",
        "ax.fill(x_hueco, y_hueco, color='white', edgecolor='gray', linewidth=2)\n",
        "\n",
        "# Establecer etiquetas y título\n",
        "plt.xlabel('X')\n",
        "plt.ylabel('Y')\n",
        "plt.title('Figuras 1 y 2 en un Mismo Plano')\n",
        "\n",
        "# Mostrar la figura\n",
        "plt.gca().set_aspect('equal', adjustable='box')\n",
        "plt.axis('off')\n",
        "plt.show()\n"
      ],
      "metadata": {
        "colab": {
          "base_uri": "https://localhost:8080/",
          "height": 194
        },
        "id": "1744ZgL4rFJA",
        "outputId": "6eeeba49-6a5e-4723-e490-a9ea049ff041"
      },
      "execution_count": 4,
      "outputs": [
        {
          "output_type": "display_data",
          "data": {
            "text/plain": [
              "<Figure size 640x480 with 1 Axes>"
            ],
            "image/png": "[encoded data removed]"
          },
          "metadata": {}
        }
      ]
    },
    {
      "cell_type": "code",
      "source": [
        "import matplotlib.pyplot as plt\n",
        "from shapely.geometry import Polygon\n",
        "\n",
        "# Definir las coordenadas del marco exterior para la primera figura\n",
        "marco_coords1 = [(9, 0), (14, 0), (14, 5), (9, 5)]\n",
        "\n",
        "# Definir las coordenadas del hueco cuadrado en el centro para la primera figura\n",
        "\n",
        "hueco_coords1 = [(9.5, 0.5), (13.5, 0.5), (13.5, 4.5), (9.5, 4.5)]\n",
        "\n",
        "# Definir las coordenadas del marco exterior para la segunda figura con un espacio de dos unidades en el lado derecho\n",
        "marco_coords2 = [(1, 1), (4, 1), (4, 4), (1, 4)]\n",
        "marco_coords_ref2 = [(4, 4), (4, 1), (7, 1), (7, 4)]\n",
        "\n",
        "# Definir las coordenadas del hueco cuadrado en el centro para la segunda figura\n",
        "hueco_coords2 = [(1.5, 1.5), (3.5, 1.5), (3.5, 3.5), (1.5, 3.5)]\n",
        "\n",
        "# Crear el polígono para el marco y el hueco de la primera figura\n",
        "marco1 = Polygon(marco_coords1)\n",
        "hueco1 = Polygon(hueco_coords1)\n",
        "\n",
        "# Crear el polígono para el marco y el hueco de la segunda figura\n",
        "marco2 = Polygon(marco_coords2)\n",
        "marco_ref2 = Polygon(marco_coords_ref2)\n",
        "hueco2 = Polygon(hueco_coords2)\n",
        "\n",
        "# Crear una figura y un eje\n",
        "fig, ax = plt.subplots()\n",
        "\n",
        "# Dibujar la primera figura\n",
        "x, y = marco1.exterior.xy\n",
        "ax.fill(x, y, color='#98FB98', edgecolor='gray', linewidth=2)\n",
        "x_hueco, y_hueco = hueco1.exterior.xy\n",
        "ax.fill(x_hueco, y_hueco, color='white', edgecolor='gray', linewidth=2)\n",
        "\n",
        "# Dibujar la segunda figura\n",
        "x, y = marco2.exterior.xy\n",
        "ax.fill(x, y, color='#FFC0CB', edgecolor='gray', linewidth=2)\n",
        "x_ref, y_ref = marco_ref2.exterior.xy\n",
        "ax.fill(x_ref, y_ref, color='#FFC0CB', edgecolor='gray', linewidth=2)\n",
        "x_hueco, y_hueco = hueco2.exterior.xy\n",
        "ax.fill(x_hueco, y_hueco, color='white', edgecolor='gray', linewidth=2)\n",
        "\n",
        "# Establecer etiquetas y título\n",
        "plt.xlabel('X')\n",
        "plt.ylabel('Y')\n",
        "plt.title('Figuras 1 y 2 en un Mismo Plano')\n",
        "\n",
        "# Mostrar la figura\n",
        "plt.gca().set_aspect('equal', adjustable='box')\n",
        "plt.axis('off')\n",
        "plt.show()\n"
      ],
      "metadata": {
        "colab": {
          "base_uri": "https://localhost:8080/",
          "height": 250
        },
        "id": "nyNqJl3Fuakk",
        "outputId": "ce7eb29c-73e3-478d-a1bb-557592f62709"
      },
      "execution_count": 11,
      "outputs": [
        {
          "output_type": "display_data",
          "data": {
            "text/plain": [
              "<Figure size 640x480 with 1 Axes>"
            ],
            "image/png": "[encoded data removed]"
          },
          "metadata": {}
        }
      ]
    }
  ]
}